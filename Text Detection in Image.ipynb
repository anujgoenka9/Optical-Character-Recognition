{
 "cells": [
  {
   "cell_type": "code",
   "execution_count": 1,
   "metadata": {},
   "outputs": [],
   "source": [
    "import cv2\n",
    "import matplotlib.pyplot as plt\n",
    "import pytesseract\n",
    "#pytesseract.pytesseract.tesseract_cmd = r\"C:\\Program Files\\Tesseract-OCR\\tesseract.exe\""
   ]
  },
  {
   "cell_type": "code",
   "execution_count": 2,
   "metadata": {},
   "outputs": [],
   "source": [
    "def get_text(path):\n",
    "    image = cv2.imread(path,0)\n",
    "    blur = cv2.bilateralFilter(image,10,75,75)\n",
    "    thresh = cv2.adaptiveThreshold(blur,255,cv2.ADAPTIVE_THRESH_MEAN_C,cv2.THRESH_BINARY,11,8)\n",
    "    text = pytesseract.image_to_string(thresh)\n",
    "    return text"
   ]
  },
  {
   "cell_type": "code",
   "execution_count": 3,
   "metadata": {
    "scrolled": true
   },
   "outputs": [],
   "source": [
    "try:\n",
    "    #just pass the path of the image in the function\n",
    "    texts = get_text('Newspaper.jpeg')\n",
    "except (TesseractNotFoundError,FileNotFoundError):\n",
    "    print(\"Uncomment the line below import section and download tesserat OCR from google and copy the path and make the changes\")"
   ]
  },
  {
   "cell_type": "code",
   "execution_count": 4,
   "metadata": {},
   "outputs": [
    {
     "name": "stdout",
     "output_type": "stream",
     "text": [
      "CITY’S MOTIVATION AGAINST\n",
      "REAL WILL BE IMMENSE: ZIZOU\n",
      "\n",
      "Madrid: Real Madrid coach Zinedine Zidane on Saturday\n",
      "said that he is expecting Manchester City’s motivation to\n",
      "be “immense” when the two sides meet in the Champions\n",
      "League. Real host Pep Guardiola’s City in their last-16 first\n",
      "leg on February 26, with the return game at the Etihad on\n",
      "March 17. “For what has just happened, their motivation\n",
      "will be immense,” said Zidane. “I’m not going to go into\n",
      "what happened, what is going to happen... It’s a team\n",
      "anyway, who will be a difficult opponent, knowing also how\n",
      "they have been doing in the Premier League. So they will\n",
      "have extra motivation.”\n",
      "\n",
      "SHEFFIELD UNITED ON POLE\n",
      "\n",
      "The decision, if it remains in piace, will ensure that\n",
      "Champions League qualification will drop down to fifth\n",
      "place in the EPL should City finish in the top four.\n",
      "Sheffield United are currently fifth, and would qualify for\n",
      "the Champions League next season should they finish\n",
      "there. Should City also theoretically qualify for the\n",
      "Europa League via winning either the FA Cup or League\n",
      "Cup, then that Europe spot would transfer back to EPL\n",
      "\n",
      "Ty . .. _ 1\n"
     ]
    }
   ],
   "source": [
    "print(texts)"
   ]
  },
  {
   "cell_type": "code",
   "execution_count": null,
   "metadata": {},
   "outputs": [],
   "source": []
  }
 ],
 "metadata": {
  "kernelspec": {
   "display_name": "Python (computervision)",
   "language": "python",
   "name": "computervision"
  },
  "language_info": {
   "codemirror_mode": {
    "name": "ipython",
    "version": 3
   },
   "file_extension": ".py",
   "mimetype": "text/x-python",
   "name": "python",
   "nbconvert_exporter": "python",
   "pygments_lexer": "ipython3",
   "version": "3.7.7"
  }
 },
 "nbformat": 4,
 "nbformat_minor": 4
}
